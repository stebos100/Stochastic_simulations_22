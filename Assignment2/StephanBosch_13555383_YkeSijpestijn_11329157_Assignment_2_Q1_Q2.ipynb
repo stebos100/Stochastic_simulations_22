{
 "cells": [
  {
   "cell_type": "code",
   "execution_count": null,
   "id": "5913f77c",
   "metadata": {},
   "outputs": [],
   "source": [
    "import simpy\n",
    "import numpy as np\n",
    "import random\n",
    "import math\n",
    "import matplotlib.pyplot as plt\n",
    "import seaborn as sns\n",
    "from numpy import genfromtxt\n",
    "import pandas as pd\n",
    "import scipy.stats as st\n",
    "from tqdm import tqdm\n",
    "plt.style.use('seaborn')"
   ]
  },
  {
   "cell_type": "code",
   "execution_count": null,
   "id": "40507c5a",
   "metadata": {},
   "outputs": [],
   "source": [
    "def calculate_confidence_interval(matrix):\n",
    "    \"\"\"This function generates a 95% confidence interval for a matrix of areas calculated using MC simulations\n",
    "    Args:\n",
    "        matrix (numpy array 2D): matrix containing all area computations\n",
    "    Returns:\n",
    "        numpy array: array of confidence intervals for the average of each simulation\n",
    "    \"\"\"\n",
    "\n",
    "    cis = np.ones(shape = (1,2))\n",
    "\n",
    "    for i in matrix:\n",
    "        data = i \n",
    "        interval = np.array(st.t.interval(alpha=0.95, df=(matrix.shape[1])-1, loc=np.mean(data), scale=st.sem(data)))\n",
    "        interval = interval.reshape(1,2)\n",
    "        cis = np.vstack((cis, interval))\n",
    "\n",
    "    return cis"
   ]
  },
  {
   "cell_type": "code",
   "execution_count": null,
   "id": "106488b3",
   "metadata": {},
   "outputs": [],
   "source": [
    "\"\"\"\"This formula is based on page 114 and 115 of 'Queueing Theory' of Ivo Adan and Jacques Resing (2002). \n",
    "It is a recursion formula utilizing the relation between the delay probability (W) and the blocking probability (B). \n",
    "The recursion is computed, wherafter the delay probability is calculated. \n",
    "Little Law's is then used to calculate the mean waiting time.\n",
    "\"\"\"\n",
    "def theoretical_mmn(rho, mu, n):\n",
    "    def W(n, rho):\n",
    "        def B(n, rho):\n",
    "            B = 1\n",
    "            for i in range(1, n+1):\n",
    "                B = rho * B / (i + rho * B)\n",
    "            return B\n",
    "        B2 = B(n-1, n* rho)\n",
    "        return rho * B2 / (1 - rho + rho * B2)\n",
    "    w = W(n, rho)\n",
    "    return w / (n * mu) * ( 1 / (1 - rho))"
   ]
  },
  {
   "cell_type": "code",
   "execution_count": null,
   "id": "cb98ec80",
   "metadata": {},
   "outputs": [],
   "source": [
    "\n",
    "class DES(object):\n",
    "    \"\"\"\n",
    "    Class named after the Discrete Event Simulation. The program is implemented using SimPy's tutorial for creating events\n",
    "    Args:\n",
    "        Simpy.environment\n",
    "        Rate of arrival; lambda\n",
    "        Rate of service; mu\n",
    "        Number of servers; n\n",
    "        Number of customers; m \n",
    "        \n",
    "    Yields:\n",
    "        Waiting time for each customer before getting in service\n",
    "             \n",
    "    \"\"\"\n",
    "    def __init__(self, env, arrival_rate, service_rate, servers, n_samples):\n",
    "        self.env = env\n",
    "        self.arrival_rate = arrival_rate\n",
    "        self.service_rate = service_rate\n",
    "        self.servers = servers\n",
    "        self.n_samples = n_samples\n",
    "        self.force = env.event()\n",
    "        self.action = env.process(self.run())\n",
    "        self.waiting_times = []\n",
    "        \n",
    "    def run(self):\n",
    "        while True:\n",
    "            if len(self.waiting_times) > self.n_samples:\n",
    "                self.force.succeed()\n",
    "                self.force = self.env.event()\n",
    "            #customer arrives with exponential inter arrival times (Markovian)\n",
    "            arrival_time = random.expovariate(self.arrival_rate)\n",
    "            yield self.env.timeout(arrival_time)\n",
    "            #service time also has a Markovian distribution, calls service function\n",
    "            service_time = random.expovariate(self.service_rate)\n",
    "            self.env.process(self.service(service_time))\n",
    "            \n",
    "    # Calculates time that a customer has waited        \n",
    "    def service(self, service_time):\n",
    "        before = env.now\n",
    "        with self.servers.request() as req:\n",
    "            yield req\n",
    "            self.waiting_times.append(env.now - before)\n",
    "            yield self.env.timeout(service_time)"
   ]
  },
  {
   "cell_type": "code",
   "execution_count": null,
   "id": "a9f6470f",
   "metadata": {},
   "outputs": [],
   "source": [
    "#-------------------------------------%%%QUESTION 1%%%%------------------------------------------------------------------\n",
    "\"\"\"\n",
    "To answer question 1, we will make a table with varying rho ranges [0.2, 0.4, 0.6, 0.8, 0.95] for n = 1, 2, 4\n",
    "\"\"\""
   ]
  },
  {
   "cell_type": "code",
   "execution_count": null,
   "id": "24b0f5e1",
   "metadata": {},
   "outputs": [],
   "source": [
    "# Lets make a df for the theoretical values\n",
    "\n",
    "n_samples = 5000\n",
    "n_servers = np.array([1, 2, 4])\n",
    "service_rate = 1\n",
    "rho_range = [0.2, 0.4, 0.6, 0.8, 0.95]\n",
    "waiting_times_theoretical = np.zeros((len(n_servers), len(rho_range)))"
   ]
  },
  {
   "cell_type": "code",
   "execution_count": null,
   "id": "9d8e5d1b",
   "metadata": {},
   "outputs": [],
   "source": [
    "for i in range(len(n_servers)):\n",
    "    for j in range(len(rho_range)):\n",
    "        arrival_rate = rho_range[j] * n_servers[i]\n",
    "        env = simpy.Environment()\n",
    "        servers = simpy.Resource(env, capacity = n_servers[i])\n",
    "        des = DES(env, arrival_rate, (service_rate), servers, n_samples)\n",
    "        env.run(until = des.force)\n",
    "        waiting_times_theoretical[i, j] = theoretical_mmn(rho_range[j], service_rate, n_servers[i])\n"
   ]
  },
  {
   "cell_type": "code",
   "execution_count": null,
   "id": "2fdfa70f",
   "metadata": {},
   "outputs": [],
   "source": [
    "df = pd.DataFrame(waiting_times_theoretical, columns=[rho_range])\n",
    "df.to_csv('theoretical.csv', index=False)"
   ]
  },
  {
   "cell_type": "code",
   "execution_count": null,
   "id": "51c91d9c",
   "metadata": {},
   "outputs": [],
   "source": [
    "\"\"\"\n",
    "Make a plot which visualizes the difference in using 1, 2 or 4 servers. \n",
    "Theoretical values will be included as well to show that the simulation converges \n",
    "to the theoretical value when run multiple times.\n",
    "\"\"\""
   ]
  },
  {
   "cell_type": "code",
   "execution_count": null,
   "id": "98cdb17e",
   "metadata": {},
   "outputs": [],
   "source": [
    "runs = 30\n",
    "n_samples = 200000\n",
    "n_servers = np.array([1, 2, 4])\n",
    "rho_range = [0.6, 0.7, 0.8, 0.9, 0.95]\n",
    "service_rate = 1\n",
    "waiting_times_mmn = np.zeros((len(n_servers), len(rho_range), runs, n_samples))\n",
    "waiting_times_theoretical = np.zeros((len(n_servers), len(rho_range)))"
   ]
  },
  {
   "cell_type": "code",
   "execution_count": null,
   "id": "f67626f3",
   "metadata": {},
   "outputs": [],
   "source": [
    "count = 0\n",
    "for i in range(len(n_servers)):\n",
    "    for j in range(len(rho_range)):\n",
    "        for k in range(runs):\n",
    "            arrival_rate = rho_range[j] * n_servers[i]\n",
    "            env = simpy.Environment()\n",
    "            servers = simpy.Resource(env, capacity = n_servers[i])\n",
    "            des = DES(env, arrival_rate, (service_rate), servers, n_samples)\n",
    "            env.run(until = des.force)\n",
    "            waiting_times_mmn[i, j, k, :] = des.waiting_times[:n_samples]\n",
    "            waiting_times_theoretical[i, j] = theoretical_mmn(rho_range[j], service_rate, n_servers[i])\n",
    "    count += 1\n",
    "    print((count/(len(n_servers) * 100), \"% done!\"))"
   ]
  },
  {
   "cell_type": "code",
   "execution_count": null,
   "id": "96b4868f",
   "metadata": {},
   "outputs": [],
   "source": [
    "mean_waiting_times_runs = np.zeros((len(n_servers), len(rho_range), runs))\n",
    "\n",
    "for i in range(len(n_servers)):\n",
    "    for j in range(len(rho_range)):\n",
    "        for k in range(runs):\n",
    "            mean_waiting_times_runs[i, j, k] = np.mean(waiting_times_mmn[i, j, k, :])"
   ]
  },
  {
   "cell_type": "code",
   "execution_count": null,
   "id": "f994c7fb",
   "metadata": {},
   "outputs": [],
   "source": [
    "mean_waiting_times = np.zeros((len(n_servers), len(rho_range)))\n",
    "\n",
    "for i in range(len(n_servers)):\n",
    "    for j in range(len(rho_range)):\n",
    "        mean_waiting_times[i, j] = np.mean(mean_waiting_times_runs[i, j])"
   ]
  },
  {
   "cell_type": "code",
   "execution_count": null,
   "id": "df1cdbc5",
   "metadata": {},
   "outputs": [],
   "source": [
    "np.savetxt(\"MMn_0.6-0.95_runs.csv\", mean_waiting_times_runs.reshape(3, 150), delimiter=\",\")\n",
    "np.savetxt(\"MMn_mean_0.6-0.95.csv\", mean_waiting_times, delimiter=\",\")"
   ]
  },
  {
   "cell_type": "code",
   "execution_count": null,
   "id": "0572b8f7",
   "metadata": {},
   "outputs": [],
   "source": [
    "mean_waiting_times = genfromtxt('MMn_mean_0.6-0.95.csv', delimiter=',')\n",
    "mean_waiting_times_runs = genfromtxt('MMn_mean_0.6-0.95_runs.csv', delimiter = ',')"
   ]
  },
  {
   "cell_type": "code",
   "execution_count": null,
   "id": "9ce4a9d3",
   "metadata": {},
   "outputs": [],
   "source": [
    "mean_waiting_times_runs = mean_waiting_times_runs.reshape(3, 5, 30)"
   ]
  },
  {
   "cell_type": "code",
   "execution_count": null,
   "id": "1e74a904",
   "metadata": {},
   "outputs": [],
   "source": [
    "\"\"\"\n",
    "\n",
    "To get a summary of the MMn statistics we will calculate the confidence interval, standard deviation and mean\n",
    "\n",
    "\"\"\""
   ]
  },
  {
   "cell_type": "code",
   "execution_count": null,
   "id": "6efcb8eb",
   "metadata": {},
   "outputs": [],
   "source": [
    "#Confidence Interval\n",
    "cis_n1 = calculate_confidence_interval((mean_waiting_times_runs[0]))\n",
    "cis_n2 = calculate_confidence_interval((mean_waiting_times_runs[1]))\n",
    "cis_n3 = calculate_confidence_interval((mean_waiting_times_runs[2]))\n",
    "\n",
    "cis_n1 = cis_n1[1:]\n",
    "cis_n2 = cis_n2[1:]\n",
    "cis_n3 = cis_n3[1:]"
   ]
  },
  {
   "cell_type": "code",
   "execution_count": null,
   "id": "d976d7e1",
   "metadata": {},
   "outputs": [],
   "source": [
    "#Standard Deviation\n",
    "std_mmn_2 = np.zeros((len(n_servers), len(rho_range)))\n",
    "\n",
    "for i in range(len(n_servers)):\n",
    "    for j in range(len(rho_range)):\n",
    "        std_mmn_2[i, j] = np.std(mean_waiting_times_runs[i][j]) "
   ]
  },
  {
   "cell_type": "code",
   "execution_count": null,
   "id": "0fe1c8de",
   "metadata": {
    "scrolled": false
   },
   "outputs": [],
   "source": [
    "for i in range(len(n_servers)):\n",
    "    if i == 0:\n",
    "        plt.scatter(rho_range, mean_waiting_times[i], marker = \"^\", color = 'blue', label = 'Simulation with n = %s' % n_servers[i])\n",
    "        plt.fill_between(rho_range, mean_waiting_times[i] + 0.2, mean_waiting_times[i] - 0.2,\n",
    "                         alpha = 0.3, label = \"0.05 width tolerance\")\n",
    "    if i == 1:\n",
    "        plt.scatter(rho_range, mean_waiting_times[i], marker = \"o\", color ='green', label = 'Simulation with n = %s' % n_servers[i])\n",
    "        plt.fill_between(rho_range, mean_waiting_times[i] + 0.2, mean_waiting_times[i] - 0.2,\n",
    "                         alpha = 0.3, label = \"0.05 width tolerance\")\n",
    "    if i == 2:\n",
    "        plt.scatter(rho_range, mean_waiting_times[i], marker = \"8\", color = 'red', label = 'Simulation with n = %s' % n_servers[i])\n",
    "        plt.fill_between(rho_range, mean_waiting_times[i] + 0.2, mean_waiting_times[i] - 0.2,\n",
    "                         alpha = 0.3, label = \"0.05 width tolerance\")\n",
    "        \n",
    "for i in range(len(n_servers)):\n",
    "    plt.plot(rho_range, waiting_times_theoretical[i], label = 'Theoretical with n = %s' % n_servers[i])\n",
    "\n",
    "plt.xlabel(\"Utilization rate \" r'$\\rho$', fontsize = 15)\n",
    "plt.ylabel(\"E(W)\", fontsize = 15)\n",
    "plt.title(\"Waiting times for M/M/n Queuing simulation\", fontsize  = 15)\n",
    "plt.tick_params(axis='both', which='major', labelsize=13)\n",
    "plt.legend(fontsize=12)\n",
    "plt.savefig(\"MMn_EW.png\")"
   ]
  },
  {
   "cell_type": "code",
   "execution_count": null,
   "id": "88c201c4",
   "metadata": {},
   "outputs": [],
   "source": [
    "\"\"\"\n",
    "Lets investigate the influence of rho while increasing the sample size \n",
    "on the mean waiting time and on the standard deviation\n",
    "\"\"\""
   ]
  },
  {
   "cell_type": "code",
   "execution_count": null,
   "id": "15ef7f33",
   "metadata": {},
   "outputs": [],
   "source": [
    "runs = 30\n",
    "#This is our sample range\n",
    "n_samples = [100, 500, 1000, 5000, 10000, 20000, 50000, 75000, 100000]\n",
    "n_servers = np.array([1, 2, 4])\n",
    "rho_range = [0.6, 0.7, 0.8, 0.9, 0.95]\n",
    "service_rate = 1\n",
    "arrival_rate = 0\n",
    "waiting_times_mmn_2 = []\n",
    "#waiting_times_theoretical = np.zeros((len(rho_range), num_runs, len(n_servers)))"
   ]
  },
  {
   "cell_type": "code",
   "execution_count": null,
   "id": "633f72f4",
   "metadata": {
    "scrolled": false
   },
   "outputs": [],
   "source": [
    "for x in range(len(n_samples)):\n",
    "    count = 0\n",
    "    print(\"now starting with sample {}\".format(n_samples[x]))\n",
    "    waiting_times_mmn_2_temp = np.zeros((len(n_servers), len(rho_range), runs, n_samples[x]))\n",
    "    for i in range(len(n_servers)):\n",
    "        for j in range(len(rho_range)):\n",
    "            for k in range(runs):\n",
    "                arrival_rate = n_servers[i] * rho_range[j] \n",
    "                env = simpy.Environment()\n",
    "                servers = simpy.Resource(env, capacity = n_servers[i])\n",
    "                des = DES(env, arrival_rate, (service_rate), servers, n_samples[x])\n",
    "                env.run(until = des.force)\n",
    "                waiting_times_mmn_2_temp[i, j, k, :] = des.waiting_times[:n_samples[x]]\n",
    "                #waiting_times_theoretical[i, j, k] = theoretical_mmn(rho_range[j], service_rate, n_servers[i])\n",
    "        count += 1\n",
    "        print(count/len(n_servers) * 100, \"% done!\")\n",
    "                \n",
    "    waiting_times_mmn_2.append(waiting_times_mmn_2_temp)"
   ]
  },
  {
   "cell_type": "code",
   "execution_count": null,
   "id": "8da3b469",
   "metadata": {},
   "outputs": [],
   "source": [
    "#Calculating the mean for each of the number of samples in the 30 runs\n",
    "\n",
    "mean_waiting_times_mmn_2 = np.zeros((len(n_samples),len(n_servers), len(rho_range), runs))\n",
    "\n",
    "for x in range(len(n_samples)):\n",
    "    for i in range(len(n_servers)):\n",
    "        for j in range(len(rho_range)):\n",
    "            for k in range(runs):\n",
    "                mean_waiting_times_mmn_2[x, i, j, k] = np.mean(waiting_times_mmn_2[x][i][j][k]) \n",
    "        "
   ]
  },
  {
   "cell_type": "code",
   "execution_count": null,
   "id": "fcfee4aa",
   "metadata": {},
   "outputs": [],
   "source": [
    "#Calculates the mean of the 30 runs to get 1 mean value per number of servers with the corresponding rho value\n",
    "\n",
    "mean_waiting_times_mmn_2_1 = np.zeros((len(n_samples),len(n_servers), len(rho_range)))\n",
    "\n",
    "for x in range(len(n_samples)):\n",
    "    for i in range(len(n_servers)):\n",
    "        for j in range(len(rho_range)):\n",
    "            mean_waiting_times_mmn_2_1[x, i, j] = np.mean(mean_waiting_times_mmn_2[x,i,j])"
   ]
  },
  {
   "cell_type": "code",
   "execution_count": null,
   "id": "40eaf4b9",
   "metadata": {},
   "outputs": [],
   "source": [
    "#For convience we split the data for each server number\n",
    "\n",
    "mean_n1 = mean_waiting_times_mmn_2_1[:, 0, :]\n",
    "mean_n2 = mean_waiting_times_mmn_2_1[:, 1, :]\n",
    "mean_n4 = mean_waiting_times_mmn_2_1[:, 2, :]"
   ]
  },
  {
   "cell_type": "code",
   "execution_count": null,
   "id": "c140a0a4",
   "metadata": {
    "scrolled": true
   },
   "outputs": [],
   "source": [
    "#Plots the number of customers vs the mean waiting time for varying rho values [0.6, 0.7, 0.8, 0.9, 0.95]\n",
    "\n",
    "fig, (ax1, ax2, ax3) = plt.subplots(3, 1)\n",
    "fig.set_size_inches(8, 10, forward=True)\n",
    "ax1.plot(n_samples, mean_n1, label = rho_range)\n",
    "ax1.set_title(\"n = 1\", fontsize  = 15)\n",
    "ax1.set_ylabel(\"E(W)\", fontsize  = 15)\n",
    "ax1.set_tick_params(axis='both', which='major', labelsize=13)\n",
    "ax1.legend()\n",
    "ax2.plot(n_samples, mean_n2, label = rho_range)\n",
    "ax2.set_title(\"n = 2\", fontsize  = 15)\n",
    "ax2.set_ylabel(\"E(W)\", fontsize  = 15)\n",
    "ax2.set_tick_params(axis='both', which='major', labelsize=13)\n",
    "ax2.legend()\n",
    "ax3.plot(n_samples, mean_n4, label = rho_range)\n",
    "ax3.set_title(\"n = 4\", fontsize  = 15)\n",
    "ax3.set_xlabel(\"Number of customers\", fontsize = 15)\n",
    "ax3.set_ylabel(\"E(W)\", fontsize  = 15)\n",
    "ax3.set_tick_params(axis='both', which='major', labelsize=13)\n",
    "ax3.legend()\n",
    "fig.title(\"Waiting times for M/M/n Queuing simulation\", fontsize  = 15)\n",
    "fig.savefig('MMN_mean.png')\n"
   ]
  },
  {
   "cell_type": "code",
   "execution_count": null,
   "id": "4ad72a79",
   "metadata": {},
   "outputs": [],
   "source": [
    "#Calculates the standard deviation\n",
    "\n",
    "std_mmn_2 = np.zeros((len(n_samples),len(n_servers), len(rho_range)))\n",
    "\n",
    "for x in range(len(n_samples)):\n",
    "    for i in range(len(n_servers)):\n",
    "        for j in range(len(rho_range)):\n",
    "            std_mmn_2[x, i, j] = np.std(mean_waiting_times_mmn_2[x][i][j]) "
   ]
  },
  {
   "cell_type": "code",
   "execution_count": null,
   "id": "d39667f5",
   "metadata": {},
   "outputs": [],
   "source": [
    "std_n1 = std_mmn_2[:, 0, :]\n",
    "std_n2 = std_mmn_2[:, 1, :]\n",
    "std_n4 = std_mmn_2[:, 2, :]"
   ]
  },
  {
   "cell_type": "code",
   "execution_count": null,
   "id": "f428edda",
   "metadata": {
    "scrolled": true
   },
   "outputs": [],
   "source": [
    "#Let's plot the STD vs Number of customers\n",
    "\n",
    "fig, (ax1, ax2, ax3) = plt.subplots(3, 1)\n",
    "fig.set_size_inches(8, 10, forward=True)\n",
    "ax1.plot(n_samples, std_n1, label = rho_range)\n",
    "ax1.set_title(\"n = 1\", fontsize  = 15)\n",
    "ax1.set_ylabel(\"Std\", fontsize  = 15)\n",
    "ax1.set_tick_params(axis='both', which='major', labelsize=13)\n",
    "ax1.legend()\n",
    "ax2.plot(n_samples, std_n2, label = rho_range)\n",
    "ax2.set_title(\"n = 2\", fontsize  = 15)\n",
    "ax2.set_ylabel(\"Std\", fontsize  = 15)\n",
    "ax2.set_tick_params(axis='both', which='major', labelsize=13)\n",
    "ax2.legend()\n",
    "ax3.plot(n_samples, std_n4, label = rho_range)\n",
    "ax3.set_title(\"n = 4\", fontsize  = 15)\n",
    "ax3.set_xlabel(\"Number of customers\", fontsize  = 15)\n",
    "ax3.set_ylabel(\"Std\", fontsize  = 15)\n",
    "ax3.set_tick_params(axis='both', which='major', labelsize=13)\n",
    "ax3.legend()\n",
    "fig.savefig('MMN_std.png')"
   ]
  },
  {
   "cell_type": "code",
   "execution_count": null,
   "id": "5bfe47a9",
   "metadata": {},
   "outputs": [],
   "source": [
    "# -------------------------- %%% Code obtained from question3 and question 4 file%%% ------------------------------\n",
    "# This will produce a system compatible for comparing to the other systems like M/D/n, M/H/n, and M/M/n with SJF\n",
    "n_samples = 200000\n",
    "n_servers = np.array([1,2,4])\n",
    "steps = 10\n",
    "arrival_rate = n_servers\n",
    "p_min = 0.5\n",
    "p_max = 0.95\n",
    "p_range = np.linspace(p_min, p_max, steps)\n",
    "service_rate = (1 / p_range)\n",
    "runs = 25\n",
    "\n",
    "waiting_times_mmn3 = np.zeros((3, steps, n_samples))\n",
    "waiting_times_mmn3_stacked = np.zeros((1, runs))\n",
    "count = 0\n",
    "for i in range(len(n_servers)):\n",
    "    for j in tqdm(range(steps), desc=f'calculate waiting times for n_server {n_servers[i]}'):\n",
    "        waiting_times_mmn3_stacked_temp = np.zeros((1, n_samples))\n",
    "        for k in range(runs):\n",
    "            env = simpy.Environment()\n",
    "            servers1 = simpy.PriorityResource(env, capacity=n_servers[i])\n",
    "            waiting_times = []\n",
    "            setup1 = DES(env, arrival_rate[i], service_rate[j], servers1, n_samples)\n",
    "            env.run(until=setup1.force)            \n",
    "            waiting_times_mmn3_stacked_temp = np.vstack((waiting_times_mmn3_stacked_temp, setup1.waiting_times[:n_samples]))\n",
    "        appending = np.mean(waiting_times_mmn3_stacked_temp[1:], axis = 1)\n",
    "        apend = appending.reshape(1, appending.shape[0])\n",
    "        waiting_times_mmn3_stacked = np.vstack((waiting_times_mmn3_stacked,apend))\n",
    "        \n",
    "waiting_times_mmn3_stacked = waiting_times_mmn3_stacked[1:]\n",
    "np.savetxt(\"MMN_0.5_0.95.csv\", waiting_times_mmn3_stacked, delimiter=\",\")\n",
    "#%%"
   ]
  },
  {
   "cell_type": "code",
   "execution_count": null,
   "id": "c6583bd1",
   "metadata": {},
   "outputs": [],
   "source": [
    "waiting_times_MMn_stacked = genfromtxt('MMN_0.5_0.95.csv', delimiter=',')\n",
    "relavant_std_MM = np.std(waiting_times_MMn_stacked, axis = 1)"
   ]
  },
  {
   "cell_type": "code",
   "execution_count": null,
   "id": "d8f274f6",
   "metadata": {},
   "outputs": [],
   "source": [
    "#Plots the standard deviation vs rho range for n=1, n=2, and n=4\n",
    "n_servers = np.array([1, 2, 4])\n",
    "for i in n_servers:\n",
    "    if i == 1:\n",
    "        plt.plot(p_range, relavant_std_MM[0:i*10], marker = \"^\",\n",
    "                 label = 'standard deviation for {} server(s)'.format(i), linewidth = 2, markersize = 8)\n",
    "    elif i == 2:\n",
    "        plt.plot(p_range, relavant_std_MM[((i)*5):((i+2)*5)], marker = \"o\", linestyle = \"--\",\n",
    "                 label = 'standard deviation for {} server(s)'.format(i), linewidth = 2, markersize = 8)\n",
    "    elif i == 4:\n",
    "        plt.plot(p_range, relavant_std_MM[((i)*5):((i+2)*5)], marker = \"8\", linestyle  = \"-.\",\n",
    "                 label = 'standard deviation for {} server(s)'.format(i), linewidth = 2, markersize = 8)\n",
    "plt.legend(fontsize = 13)\n",
    "plt.xlabel(\"Utilization rate \" r'$\\rho$', fontsize = 15)\n",
    "plt.ylabel(r'$S[\\bar{W}]$', fontsize = 15)\n",
    "plt.title(\"Standard deviation for MM/1 - MM/n Queuing simulation\", fontsize  = 15)\n",
    "plt.tick_params(axis='both', which='major', labelsize=14)\n",
    "plt.savefig(\"MMN_std_vs_rho\")"
   ]
  },
  {
   "cell_type": "code",
   "execution_count": null,
   "id": "6582b94c",
   "metadata": {},
   "outputs": [],
   "source": []
  }
 ],
 "metadata": {
  "kernelspec": {
   "display_name": "Python 3 (ipykernel)",
   "language": "python",
   "name": "python3"
  },
  "language_info": {
   "codemirror_mode": {
    "name": "ipython",
    "version": 3
   },
   "file_extension": ".py",
   "mimetype": "text/x-python",
   "name": "python",
   "nbconvert_exporter": "python",
   "pygments_lexer": "ipython3",
   "version": "3.9.13"
  }
 },
 "nbformat": 4,
 "nbformat_minor": 5
}
